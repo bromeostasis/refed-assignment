{
 "cells": [
  {
   "cell_type": "code",
   "execution_count": null,
   "id": "3ba469d3",
   "metadata": {},
   "outputs": [],
   "source": [
    "%matplotlib inline\n",
    "import pandas as pd\n",
    "import matplotlib.pyplot as plt\n",
    "import csv\n",
    "\n",
    "part_1_csv = 'raw_data/farm_part_1.csv'\n",
    "part_3_csv = 'raw_data/farm_update_part_3.csv'\n",
    "not_harvested_csv = 'raw_data/farm_not_harvested_causes.csv'"
   ]
  },
  {
   "cell_type": "code",
   "execution_count": null,
   "id": "e42cbb52",
   "metadata": {},
   "outputs": [],
   "source": [
    "df = pd.read_csv(part_1_csv)\n",
    "df_3 = pd.read_csv(part_3_csv)\n",
    "harvest_df = pd.read_csv(not_harvested_csv)"
   ]
  },
  {
   "cell_type": "code",
   "execution_count": null,
   "id": "b70eeec8",
   "metadata": {},
   "outputs": [],
   "source": [
    "df.head()"
   ]
  },
  {
   "cell_type": "code",
   "execution_count": null,
   "id": "b056b281",
   "metadata": {},
   "outputs": [],
   "source": [
    "print(df.columns[0])\n",
    "df.columns = ['index' if x=='Unnamed: 0' else x for x in df.columns]\n",
    "df = df.applymap(lambda s: s.lower() if type(s) == str else s)\n",
    "df = df.set_index('index')\n",
    "# df.reset_index()\n",
    "df.head()"
   ]
  },
  {
   "cell_type": "code",
   "execution_count": null,
   "id": "25f2cef1",
   "metadata": {},
   "outputs": [],
   "source": [
    "len(df)"
   ]
  },
  {
   "cell_type": "code",
   "execution_count": null,
   "id": "47017c4e",
   "metadata": {},
   "outputs": [],
   "source": [
    "df.head()"
   ]
  },
  {
   "cell_type": "code",
   "execution_count": null,
   "id": "3993872e",
   "metadata": {},
   "outputs": [],
   "source": [
    "df.columns\n",
    "df = df.applymap(lambda s: s.lower() if type(s) == str else s)\n",
    "df.head()"
   ]
  },
  {
   "cell_type": "code",
   "execution_count": null,
   "id": "da978c17",
   "metadata": {},
   "outputs": [],
   "source": [
    "df.dtypes"
   ]
  },
  {
   "cell_type": "code",
   "execution_count": null,
   "id": "c71d9b72",
   "metadata": {},
   "outputs": [],
   "source": [
    "non_zero_floats = df.tons_harvested % 1 != 0\n",
    "df.loc[non_zero_floats].head()"
   ]
  },
  {
   "cell_type": "code",
   "execution_count": null,
   "id": "319e16f3",
   "metadata": {},
   "outputs": [],
   "source": [
    "read_object = open(part_1_csv)\n",
    "extractor = csv.reader(read_object)\n",
    "\n",
    "lowercase = ([lower(data) if type(data) is str else data for data in row]\n",
    "            for row in extractor)\n",
    "\n",
    "lowercase"
   ]
  },
  {
   "cell_type": "code",
   "execution_count": null,
   "id": "ef5d1fe4",
   "metadata": {},
   "outputs": [],
   "source": [
    "# DUPLICATE EXPERIMENT. Note that you can just specify fields in `duplicated()`\n",
    "\n",
    "dupable = df[['index', 'year', 'state', 'commodity_name', 'refed_food_department', 'refed_food_category']]\n",
    "\n",
    "print(len(dupable))\n",
    "existing = dupable.iloc[[1]]\n",
    "existing.index = 123456\n",
    "print(existing)\n",
    "# print(type(existing))\n",
    "dupable = dupable.append(existing, ignore_index=False)\n",
    "display(dupable[dupable.duplicated()])\n",
    "# ones = dupable.state == 'alabama'\n",
    "# display(df.loc[ones])\n",
    "\n",
    "print(len(dupable))\n",
    "\n",
    "dupable = dupable.drop_duplicates(keep='first')\n",
    "print(len(dupable))"
   ]
  },
  {
   "cell_type": "code",
   "execution_count": null,
   "id": "b487695f",
   "metadata": {},
   "outputs": [],
   "source": [
    "df['acres_unharvested'] = df['acres_planted']  - df['acres_harvested']\n",
    "df['yield_tons_per_acre'] = round(df['tons_harvested'] / df['acres_harvested'], 1) # Division!??!\n",
    "df['price_per_ton'] = round(df['us_dollars_harvested'] / df['tons_harvested'], 1)\n",
    "df['tons_never_harvested'] = round(df['acres_unharvested'] * df['yield_tons_per_acre'] * df['percent_maturity'], 1)\n",
    "df.tail()"
   ]
  },
  {
   "cell_type": "code",
   "execution_count": null,
   "id": "2c301394",
   "metadata": {},
   "outputs": [],
   "source": [
    "# display(harvest_df)\n",
    "\n",
    "for index, row in harvest_df.iterrows():\n",
    "    print(f'tons_never_harvested_{row.cause}')\n",
    "#     print(f'For cause {row.cause}, the rate is {row.rate}')\n",
    "    df[f'tons_never_harvested_{row.cause}'] = round(df['tons_never_harvested'] * row.rate, 1)\n",
    "\n",
    "df.tail()"
   ]
  },
  {
   "cell_type": "code",
   "execution_count": null,
   "id": "926aefb2",
   "metadata": {},
   "outputs": [],
   "source": [
    "df.to_csv('data/farm_part_1_production.csv')"
   ]
  },
  {
   "cell_type": "code",
   "execution_count": null,
   "id": "13d92ac2",
   "metadata": {},
   "outputs": [],
   "source": [
    "grouped_data = df.groupby(['year']).sum()\n",
    "# print(grouped_data.year, grouped_data.tons_never_harvested)\n",
    "# grouped_data.tons_never_harvested.plot.pie()\n",
    "years = df.groupby(['year']).indices.keys()\n",
    "plt.pie(grouped_data.tons_never_harvested, labels=years)\n",
    "plt.show()"
   ]
  },
  {
   "cell_type": "code",
   "execution_count": null,
   "id": "a9b6de08",
   "metadata": {},
   "outputs": [],
   "source": [
    "df_year_dept = df.groupby(['year', 'refed_food_department']).sum()\n",
    "# df_year_dept.tons_never_harvested.plot.pie()\n",
    "# labels = df.groupby(['year', 'refed_food_department']).indices.keys()\n",
    "# labels = [f'{str(tuple[0])} {tuple[1]}' for tuple in labels]\n",
    "# plt.pie(df_year_dept.tons_never_harvested, labels=labels)\n",
    "# plt.show()\n",
    "df_year_dept.tons_never_harvested"
   ]
  },
  {
   "cell_type": "code",
   "execution_count": null,
   "id": "d330d1b5",
   "metadata": {
    "scrolled": true
   },
   "outputs": [],
   "source": [
    "df_year_dept = df.groupby(['year', 'refed_food_department']).sum()\n",
    "# df_year_dept[['tons_never_harvested_not_marketable', 'tons_never_harvested_inedible']]\n",
    "# df.plot(x='year', y=[\n",
    "#     'tons_never_harvested_not_marketable',\n",
    "#     'tons_never_harvested_inedible',\n",
    "#     'tons_never_harvested_bad_weather',\n",
    "#     'tons_never_harvested_pests_disease',\n",
    "#     'tons_never_harvested_market_dynamics',\n",
    "#     'tons_never_harvested_other'\n",
    "# ], kind='bar')\n",
    "\n",
    "counter = 1\n",
    "for index, row in harvest_df.iterrows():\n",
    "#     display(df_year_dept[f'tons_never_harvested_{row.cause}'])\n",
    "#     df_year_dept[f'tons_never_harvested_{row.cause}'].plot.pie()\n",
    "    plt.subplot(3, 3, counter)\n",
    "    thingy = str(row.cause).replace('_', ' ')\n",
    "    plt.title(f'Tons for {thingy}')\n",
    "    display(df_year_dept[f'tons_never_harvested_{row.cause}'])\n",
    "    plt.pie(df_year_dept[f'tons_never_harvested_{row.cause}'])\n",
    "    counter += 1\n",
    "plt.show()"
   ]
  },
  {
   "cell_type": "code",
   "execution_count": null,
   "id": "9fbe9c05",
   "metadata": {},
   "outputs": [],
   "source": [
    "df_3.columns = ['index' if x=='Unnamed: 0' else x for x in df_3.columns]\n",
    "df_3 = df_3.applymap(lambda s: s.lower() if type(s) == str else s)\n",
    "df_3 = df_3.set_index('index')\n",
    "\n",
    "df_3.head()"
   ]
  },
  {
   "cell_type": "code",
   "execution_count": null,
   "id": "5432bd54",
   "metadata": {},
   "outputs": [],
   "source": [
    "b = 'the_thing'\n",
    "b.replace('_', ' ')"
   ]
  },
  {
   "cell_type": "code",
   "execution_count": null,
   "id": "30eb9da2",
   "metadata": {},
   "outputs": [],
   "source": [
    "df_5 = df.append(df_3)\n",
    "# df_5.groupby('year').sum()\n",
    "\n",
    "non_zero_floats = df_3.year == 2019\n",
    "print(len(df_3.loc[non_zero_floats]))\n",
    "print(len(df_5))\n",
    "print(len(df_3))\n",
    "print(len(df))\n",
    "display(df_5.loc[df_5.index == 2891])\n",
    "\n",
    "df_5[df_5.duplicated()]\n",
    "\n",
    "df_5 = df_5.drop_duplicates(keep='first')\n",
    "\n",
    "print(len(df_5))\n",
    "display(df_5.loc[df_5.index == 2891])\n"
   ]
  },
  {
   "cell_type": "code",
   "execution_count": null,
   "id": "46927a7e",
   "metadata": {},
   "outputs": [],
   "source": [
    "df_5.head()\n",
    "df_5.loc[(df_5.state == 'california') & (df_5.commodity_name == 'avocados') & (df_5.refed_food_department == 'produce')]"
   ]
  }
 ],
 "metadata": {
  "kernelspec": {
   "display_name": "Python 3 (ipykernel)",
   "language": "python",
   "name": "python3"
  },
  "language_info": {
   "codemirror_mode": {
    "name": "ipython",
    "version": 3
   },
   "file_extension": ".py",
   "mimetype": "text/x-python",
   "name": "python",
   "nbconvert_exporter": "python",
   "pygments_lexer": "ipython3",
   "version": "3.7.3"
  }
 },
 "nbformat": 4,
 "nbformat_minor": 5
}
